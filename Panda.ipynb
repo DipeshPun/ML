,cars,models,passenger
0,bmw,2007,4
1,honda,2008,6
2,suzuki,2015,5
3,byd,2020,8
