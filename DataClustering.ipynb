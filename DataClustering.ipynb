{
  "cells": [
    {
      "cell_type": "markdown",
      "metadata": {
        "colab_type": "text",
        "id": "view-in-github"
      },
      "source": [
        "<a href=\"https://colab.research.google.com/github/DipeshPun/ML/blob/main/DataClustering.ipynb\" target=\"_parent\"><img src=\"https://colab.research.google.com/assets/colab-badge.svg\" alt=\"Open In Colab\"/></a>"
      ]
    },
    {
      "cell_type": "code",
      "execution_count": 4,
      "metadata": {
        "id": "yVFiajl0QsKq"
      },
      "outputs": [],
      "source": [
        "import matplotlib.pyplot as plt\n",
        "import numpy as np\n",
        "import pandas as pd\n",
        "import math"
      ]
    },
    {
      "cell_type": "code",
      "execution_count": 5,
      "metadata": {
        "colab": {
          "base_uri": "https://localhost:8080/",
          "height": 447
        },
        "id": "T9pWMc2fRrIo",
        "outputId": "513b9662-b7c8-476f-a3c5-34083d61263e"
      },
      "outputs": [
        {
          "data": {
            "text/plain": [
              "<matplotlib.collections.PathCollection at 0x21151426d50>"
            ]
          },
          "execution_count": 5,
          "metadata": {},
          "output_type": "execute_result"
        },
        {
          "data": {
            "image/png": "[encoded data removed]",
            "text/plain": [
              "<Figure size 640x480 with 1 Axes>"
            ]
          },
          "metadata": {},
          "output_type": "display_data"
        }
      ],
      "source": [
        "a = [1, 2, 3]\n",
        "b = [4, 5, 6]\n",
        "plt.scatter(a,b)"
      ]
    },
    {
      "cell_type": "code",
      "execution_count": 6,
      "metadata": {
        "colab": {
          "base_uri": "https://localhost:8080/"
        },
        "id": "hUdPw_Z_R1BJ",
        "outputId": "b21c0698-8390-4a00-cd36-e7c97e379616"
      },
      "outputs": [
        {
          "name": "stdout",
          "output_type": "stream",
          "text": [
            "9\n",
            "9\n",
            "9\n",
            "5.196152422706632\n"
          ]
        }
      ],
      "source": [
        "a=[1,2,3]\n",
        "b=[4,5,6]\n",
        "c=b[0]-a[0]\n",
        "d=b[1]-a[1]\n",
        "e=b[2]-a[2]\n",
        "f=c*c\n",
        "g=d*d\n",
        "h=e*e\n",
        "print(f)\n",
        "print(g)\n",
        "print(h)\n",
        "print(math.sqrt(f+g+h))"
      ]
    },
    {
      "cell_type": "code",
      "execution_count": 7,
      "metadata": {
        "colab": {
          "base_uri": "https://localhost:8080/"
        },
        "id": "_6dnFNN8Sn80",
        "outputId": "94000173-608d-4627-a878-85307ded1ccd"
      },
      "outputs": [
        {
          "name": "stdout",
          "output_type": "stream",
          "text": [
            "5.196152422706632\n"
          ]
        }
      ],
      "source": [
        "a = np.array((1, 2, 3))\n",
        "b = np.array((4, 5,6))\n",
        "dist = np.linalg.norm(a-b)\n",
        "print(dist)"
      ]
    },
    {
      "cell_type": "code",
      "execution_count": 8,
      "metadata": {
        "colab": {
          "base_uri": "https://localhost:8080/"
        },
        "id": "mUUmO7JtSski",
        "outputId": "cd46a2c2-c22b-4d40-9790-332631620900"
      },
      "outputs": [
        {
          "data": {
            "text/plain": [
              "array([[ 90,  96, 102],\n",
              "       [216, 231, 246],\n",
              "       [342, 366, 390]])"
            ]
          },
          "execution_count": 8,
          "metadata": {},
          "output_type": "execute_result"
        }
      ],
      "source": [
        "a =[[1,2,3],[4,5,6],[7,8,9]]\n",
        "b=[[11,12,13],[14,15,16],[17,18,19]]\n",
        "multi= np.dot(a,b)\n",
        "multi"
      ]
    },
    {
      "cell_type": "code",
      "execution_count": 9,
      "metadata": {
        "colab": {
          "base_uri": "https://localhost:8080/"
        },
        "id": "iEpB1lQfSz7K",
        "outputId": "6422bea9-f357-47b1-c47e-51444428c9d5"
      },
      "outputs": [
        {
          "name": "stdout",
          "output_type": "stream",
          "text": [
            "[[ 90.  96. 102.]\n",
            " [216. 231. 246.]\n",
            " [342. 366. 390.]]\n"
          ]
        }
      ],
      "source": [
        "a = np.array([[1, 2, 3], [4, 5, 6], [7, 8, 9]])\n",
        "b = np.array([[11, 12, 13], [14, 15, 16], [17, 18, 19]])\n",
        "\n",
        "# Initialize the result matrix 'm'\n",
        "m = np.zeros((3, 3))\n",
        "\n",
        "# Manual matrix multiplication\n",
        "for i in range(len(a)):\n",
        "    for j in range(len(b[0])):\n",
        "        m[i][j] = sum(a[i][k] * b[k][j] for k in range(len(b)))\n",
        "\n",
        "print(m)"
      ]
    }
  ],
  "metadata": {
    "colab": {
      "authorship_tag": "ABX9TyPcJU2HLI+eNUHAYG8lRqb3",
      "include_colab_link": true,
      "provenance": []
    },
    "kernelspec": {
      "display_name": "base",
      "language": "python",
      "name": "python3"
    },
    "language_info": {
      "codemirror_mode": {
        "name": "ipython",
        "version": 3
      },
      "file_extension": ".py",
      "mimetype": "text/x-python",
      "name": "python",
      "nbconvert_exporter": "python",
      "pygments_lexer": "ipython3",
      "version": "3.12.7"
    }
  },
  "nbformat": 4,
  "nbformat_minor": 0
}
