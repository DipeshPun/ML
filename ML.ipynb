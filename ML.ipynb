{
  "cells": [
    {
      "cell_type": "markdown",
      "metadata": {
        "colab_type": "text",
        "id": "view-in-github"
      },
      "source": [
        "<a href=\"https://colab.research.google.com/github/DipeshPun/ML/blob/main/ML.ipynb\" target=\"_parent\"><img src=\"https://colab.research.google.com/assets/colab-badge.svg\" alt=\"Open In Colab\"/></a>"
      ]
    },
    {
      "cell_type": "markdown",
      "metadata": {
        "id": "uspjwsf3rdsx"
      },
      "source": [
        "#Introduction to Numpy\n",
        "Creating an array.✅\n",
        "Multidimenisional array.✅\n",
        "Randomly generated arrays.✅\n",
        "Element wise operation.\n",
        "Summerizing operations."
      ]
    },
    {
      "cell_type": "markdown",
      "metadata": {
        "id": "BeFPwaUbyQb1"
      },
      "source": [
        "##Single Dimensional array"
      ]
    },
    {
      "cell_type": "markdown",
      "metadata": {
        "id": "LQ8U8LAQrke8"
      },
      "source": []
    },
    {
      "cell_type": "code",
      "execution_count": 19,
      "metadata": {
        "id": "h_SSwQFor7hv"
      },
      "outputs": [],
      "source": [
        "import numpy as np"
      ]
    },
    {
      "cell_type": "markdown",
      "metadata": {
        "id": "M7A5vFWAx7bt"
      },
      "source": []
    },
    {
      "cell_type": "code",
      "execution_count": 20,
      "metadata": {
        "colab": {
          "base_uri": "https://localhost:8080/"
        },
        "id": "Tul47kY8s110",
        "outputId": "2efa91a0-1b1e-44b8-9c3d-f6768f28bb7d"
      },
      "outputs": [
        {
          "data": {
            "text/plain": [
              "array([0., 0., 0., 0., 0.])"
            ]
          },
          "execution_count": 20,
          "metadata": {},
          "output_type": "execute_result"
        }
      ],
      "source": [
        "#cate an array with all the elements to be zeros\n",
        "np.zeros(5)"
      ]
    },
    {
      "cell_type": "code",
      "execution_count": 21,
      "metadata": {
        "colab": {
          "base_uri": "https://localhost:8080/"
        },
        "id": "QERFpzuwtilJ",
        "outputId": "632bae4f-d07c-4ba5-fb3b-35deb373a811"
      },
      "outputs": [
        {
          "data": {
            "text/plain": [
              "array([1., 1., 1., 1.])"
            ]
          },
          "execution_count": 21,
          "metadata": {},
          "output_type": "execute_result"
        }
      ],
      "source": [
        "#creating an array of ones\n",
        "np.ones(4)"
      ]
    },
    {
      "cell_type": "code",
      "execution_count": 22,
      "metadata": {
        "colab": {
          "base_uri": "https://localhost:8080/"
        },
        "id": "u9vmvnvJtyGB",
        "outputId": "ec29213e-8a08-41ca-d4e2-915e72bff88f"
      },
      "outputs": [
        {
          "data": {
            "text/plain": [
              "array([10, 10, 10, 10, 10])"
            ]
          },
          "execution_count": 22,
          "metadata": {},
          "output_type": "execute_result"
        }
      ],
      "source": [
        "#create an array of sixe 10 with all elements:\n",
        "np.full(5,10)"
      ]
    },
    {
      "cell_type": "code",
      "execution_count": 23,
      "metadata": {
        "colab": {
          "base_uri": "https://localhost:8080/"
        },
        "id": "qXt969uvuPij",
        "outputId": "28f98257-60c0-43b4-efee-0667289d3452"
      },
      "outputs": [
        {
          "data": {
            "text/plain": [
              "array([1, 2, 3, 4, 5])"
            ]
          },
          "execution_count": 23,
          "metadata": {},
          "output_type": "execute_result"
        }
      ],
      "source": [
        "np.array([1, 2, 3, 4, 5])"
      ]
    },
    {
      "cell_type": "code",
      "execution_count": 24,
      "metadata": {
        "colab": {
          "base_uri": "https://localhost:8080/"
        },
        "id": "rhAD0Qp9vWum",
        "outputId": "60c5aa16-b466-4923-e14d-191cb04b7ff6"
      },
      "outputs": [
        {
          "data": {
            "text/plain": [
              "array([3, 4, 5, 6, 7, 8, 9])"
            ]
          },
          "execution_count": 24,
          "metadata": {},
          "output_type": "execute_result"
        }
      ],
      "source": [
        "np.arange(3, 10)"
      ]
    },
    {
      "cell_type": "code",
      "execution_count": 25,
      "metadata": {
        "colab": {
          "base_uri": "https://localhost:8080/"
        },
        "id": "ULzEk-GFwL8e",
        "outputId": "965dd808-6a95-43d0-ac5a-d0cc7910ff72"
      },
      "outputs": [
        {
          "data": {
            "text/plain": [
              "array([  0.,  10.,  20.,  30.,  40.,  50.,  60.,  70.,  80.,  90., 100.])"
            ]
          },
          "execution_count": 25,
          "metadata": {},
          "output_type": "execute_result"
        }
      ],
      "source": [
        "#Create an array with evenly spaced numbers within a specified range:\n",
        "np.linspace(0, 100, 11)"
      ]
    },
    {
      "cell_type": "markdown",
      "metadata": {
        "id": "ta7Np8CyyfPh"
      },
      "source": [
        "## Multi Dimensional array\n"
      ]
    },
    {
      "cell_type": "code",
      "execution_count": 26,
      "metadata": {
        "colab": {
          "base_uri": "https://localhost:8080/"
        },
        "id": "7GF6mxnCynQQ",
        "outputId": "b5d79887-bb1c-4584-8230-869162420649"
      },
      "outputs": [
        {
          "data": {
            "text/plain": [
              "array([[0., 0., 0., 0., 0.],\n",
              "       [0., 0., 0., 0., 0.],\n",
              "       [0., 0., 0., 0., 0.]])"
            ]
          },
          "execution_count": 26,
          "metadata": {},
          "output_type": "execute_result"
        }
      ],
      "source": [
        "np.zeros((3,5))"
      ]
    },
    {
      "cell_type": "code",
      "execution_count": 27,
      "metadata": {
        "colab": {
          "base_uri": "https://localhost:8080/"
        },
        "id": "CuvIo_7tzKRc",
        "outputId": "88e40d9c-f1f2-4f71-b829-620c11e99544"
      },
      "outputs": [
        {
          "name": "stdout",
          "output_type": "stream",
          "text": [
            "[[ 1 20  3]\n",
            " [ 4  5  6]\n",
            " [ 7  8  9]]\n"
          ]
        }
      ],
      "source": [
        "z=np.array([\n",
        "    [1, 2, 3],\n",
        "    [4, 5, 6],\n",
        "    [7, 8, 9]\n",
        "])\n",
        "z[0,1]=20\n",
        "print(z)"
      ]
    },
    {
      "cell_type": "code",
      "execution_count": 28,
      "metadata": {
        "colab": {
          "base_uri": "https://localhost:8080/"
        },
        "id": "PtMxBn8vzml-",
        "outputId": "4da9aad8-abbd-458d-9211-9e0bf4f72a30"
      },
      "outputs": [
        {
          "data": {
            "text/plain": [
              "array([[ 1, 20,  3],\n",
              "       [ 4,  5,  6],\n",
              "       [ 1,  1,  1]])"
            ]
          },
          "execution_count": 28,
          "metadata": {},
          "output_type": "execute_result"
        }
      ],
      "source": [
        "#z[2:3]=1\n",
        "z[2]=[1, 1, 1]\n",
        "z"
      ]
    },
    {
      "cell_type": "code",
      "execution_count": 29,
      "metadata": {
        "colab": {
          "base_uri": "https://localhost:8080/"
        },
        "id": "KAQxVeO81JYw",
        "outputId": "ee2026dd-0da9-4db7-a631-cfc25cc38607"
      },
      "outputs": [
        {
          "data": {
            "text/plain": [
              "array([[ 1, 20,  2],\n",
              "       [ 4,  5,  2],\n",
              "       [ 1,  1,  2]])"
            ]
          },
          "execution_count": 29,
          "metadata": {},
          "output_type": "execute_result"
        }
      ],
      "source": [
        "z[:,2]=[2, 2, 2]\n",
        "z"
      ]
    },
    {
      "cell_type": "code",
      "execution_count": 30,
      "metadata": {
        "colab": {
          "base_uri": "https://localhost:8080/"
        },
        "id": "CYjxn1mj1oco",
        "outputId": "529b1166-4746-4a58-e2bf-e07c01f5b841"
      },
      "outputs": [
        {
          "data": {
            "text/plain": [
              "array([[10, 10, 10],\n",
              "       [10, 10, 10],\n",
              "       [10, 10, 10]])"
            ]
          },
          "execution_count": 30,
          "metadata": {},
          "output_type": "execute_result"
        }
      ],
      "source": [
        "np.full((3,3),10)"
      ]
    },
    {
      "cell_type": "markdown",
      "metadata": {
        "id": "7uPZ6oGA2W24"
      },
      "source": [
        "## Randomly generated array\n",
        "Numpy can create arrays dilled with random numbers\n",
        "To ensure the reproductibility, you cab set a seed using ``np.random.seed()``, It will generate the exact same random numbers for each executions.\n",
        "If you remove or change the seed values, the sequence of randim numbers will be changed."
      ]
    },
    {
      "cell_type": "code",
      "execution_count": 31,
      "metadata": {
        "colab": {
          "base_uri": "https://localhost:8080/"
        },
        "id": "IO1IhXcJ2ewt",
        "outputId": "f5dfc477-7781-4ab3-dd92-40971285b546"
      },
      "outputs": [
        {
          "data": {
            "text/plain": [
              "array([0.67941112, 0.65078591, 0.26879524, 0.06732467, 0.77144514,\n",
              "       0.48098413, 0.32920641, 0.51064106, 0.26362883, 0.31051155])"
            ]
          },
          "execution_count": 31,
          "metadata": {},
          "output_type": "execute_result"
        }
      ],
      "source": [
        "np.random.rand(10)"
      ]
    },
    {
      "cell_type": "code",
      "execution_count": 32,
      "metadata": {
        "colab": {
          "base_uri": "https://localhost:8080/"
        },
        "id": "IxzKkdpk3vNl",
        "outputId": "9edc04fd-9b8e-428b-9ad3-1e755c5a62ab"
      },
      "outputs": [
        {
          "data": {
            "text/plain": [
              "array([0.5881308 , 0.89771373, 0.89153073, 0.81583748, 0.03588959])"
            ]
          },
          "execution_count": 32,
          "metadata": {},
          "output_type": "execute_result"
        }
      ],
      "source": [
        "np.random.seed(20)\n",
        "np.random.rand(5)"
      ]
    },
    {
      "cell_type": "code",
      "execution_count": 33,
      "metadata": {
        "colab": {
          "base_uri": "https://localhost:8080/"
        },
        "id": "jYGEujYI4P3p",
        "outputId": "61588230-52d1-4788-d4e8-d0946bcb73fe"
      },
      "outputs": [
        {
          "data": {
            "text/plain": [
              "array([[-0.95044312,  1.50227571],\n",
              "       [ 2.12601055,  0.24915543],\n",
              "       [-0.62064216, -0.83453294],\n",
              "       [ 0.91635593,  0.70783847],\n",
              "       [ 0.41967613,  0.53415759]])"
            ]
          },
          "execution_count": 33,
          "metadata": {},
          "output_type": "execute_result"
        }
      ],
      "source": [
        "np.random.randn(5, 2)"
      ]
    },
    {
      "cell_type": "code",
      "execution_count": 34,
      "metadata": {
        "colab": {
          "base_uri": "https://localhost:8080/"
        },
        "id": "eFi_INTb5Q0Z",
        "outputId": "5fd34200-70fc-4953-cb9e-5582be58b9a7"
      },
      "outputs": [
        {
          "data": {
            "text/plain": [
              "array([[98,  6, 26, 13, 75],\n",
              "       [58, 25,  3, 74, 75],\n",
              "       [61, 77, 83, 57, 94],\n",
              "       [32, 10,  6, 75, 18],\n",
              "       [ 3, 77, 17, 43, 16]])"
            ]
          },
          "execution_count": 34,
          "metadata": {},
          "output_type": "execute_result"
        }
      ],
      "source": [
        "np.random.randint(low=0, high=100, size=(5, 5))"
      ]
    },
    {
      "cell_type": "markdown",
      "metadata": {
        "id": "avSHvY6yx8mh"
      },
      "source": []
    }
  ],
  "metadata": {
    "colab": {
      "authorship_tag": "ABX9TyM//xVB1wO4/UeEFTIBItoy",
      "include_colab_link": true,
      "provenance": [],
      "toc_visible": true
    },
    "kernelspec": {
      "display_name": "base",
      "language": "python",
      "name": "python3"
    },
    "language_info": {
      "codemirror_mode": {
        "name": "ipython",
        "version": 3
      },
      "file_extension": ".py",
      "mimetype": "text/x-python",
      "name": "python",
      "nbconvert_exporter": "python",
      "pygments_lexer": "ipython3",
      "version": "3.12.7"
    }
  },
  "nbformat": 4,
  "nbformat_minor": 0
}
